{
  "nbformat": 4,
  "nbformat_minor": 0,
  "metadata": {
    "colab": {
      "name": "vai_deixar_Gabriel_e_eu_rico.ipynb",
      "provenance": [],
      "collapsed_sections": [],
      "include_colab_link": true
    },
    "kernelspec": {
      "display_name": "Python 3",
      "name": "python3"
    }
  },
  "cells": [
    {
      "cell_type": "markdown",
      "metadata": {
        "id": "view-in-github",
        "colab_type": "text"
      },
      "source": [
        "<a href=\"https://colab.research.google.com/github/breenl/roboinvestidor/blob/main/vai_deixar_Gabriel_e_eu_rico.ipynb\" target=\"_parent\"><img src=\"https://colab.research.google.com/assets/colab-badge.svg\" alt=\"Open In Colab\"/></a>"
      ]
    },
    {
      "cell_type": "code",
      "metadata": {
        "id": "kTPioj7m81Qp"
      },
      "source": [
        "#pip install yfinance\r\n",
        "\r\n",
        "#pip install GoogleNews #Remover o primeiro hashtag para importar o gooogle news\r\n",
        "\r\n",
        "#pip install newspaper3k # installar um por vez\r\n",
        "\r\n",
        "#pip install yfinance"
      ],
      "execution_count": null,
      "outputs": []
    },
    {
      "cell_type": "code",
      "metadata": {
        "colab": {
          "base_uri": "https://localhost:8080/"
        },
        "id": "IBp4jMhQ1tfq",
        "outputId": "68924863-d703-4cad-a776-5eaf148eded7"
      },
      "source": [
        "import pandas as pd\r\n",
        "import matplotlib.pyplot as plt\r\n",
        "import numpy as np\r\n",
        "from datetime import datetime\r\n",
        "import seaborn as sns\r\n",
        "from sklearn.linear_model import LinearRegression\r\n",
        "import re\r\n",
        "import seaborn as sns\r\n",
        "from sklearn.neighbors import KNeighborsClassifier\r\n",
        "#Import the libraries\r\n",
        "import nltk\r\n",
        "from newspaper import Article\r\n",
        "from wordcloud import WordCloud, STOPWORDS, ImageColorGenerator\r\n",
        "import nltk\r\n",
        "import requests\r\n",
        "import zipfile\r\n",
        "from nltk.sentiment.vader import SentimentIntensityAnalyzer\r\n",
        "\r\n",
        "\r\n",
        "nltk.download('vader_lexicon')\r\n",
        "#data = pd.read_csv(\"result.csv\")#Trello Area Logada Contratante\r\n",
        "\r\n",
        "#data[\"title\"]"
      ],
      "execution_count": null,
      "outputs": [
        {
          "output_type": "stream",
          "text": [
            "[nltk_data] Downloading package vader_lexicon to /root/nltk_data...\n",
            "[nltk_data]   Package vader_lexicon is already up-to-date!\n"
          ],
          "name": "stdout"
        },
        {
          "output_type": "execute_result",
          "data": {
            "text/plain": [
              "True"
            ]
          },
          "metadata": {
            "tags": []
          },
          "execution_count": 174
        }
      ]
    },
    {
      "cell_type": "code",
      "metadata": {
        "id": "8y-xmSnkJNyn"
      },
      "source": [
        "\r\n",
        "from GoogleNews import GoogleNews\r\n",
        "googlenews = GoogleNews()\r\n",
        "\r\n",
        "googlenews.set_lang('pt')\r\n",
        "#googlenews.set_period('7d')\r\n",
        "googlenews.set_time_range('01/01/2019','12/31/2019')\r\n",
        "googlenews.set_encode('utf-8')\r\n",
        "\r\n",
        "\r\n",
        "googlenews.search('petrobras')#VVAR3\r\n",
        "#googlenews.page_at(3)\r\n",
        "\r\n",
        "#googlenews.total_count()\r\n",
        "#googlenews.results()\r\n",
        "#googlenews.get_texts()\r\n",
        "#googlenews.get_links()\r\n",
        "\r\n",
        "#https://pypi.org/project/GoogleNews/\r\n",
        "\r\n"
      ],
      "execution_count": null,
      "outputs": []
    },
    {
      "cell_type": "code",
      "metadata": {
        "colab": {
          "base_uri": "https://localhost:8080/"
        },
        "id": "8DxGH-XaNozO",
        "outputId": "c85c5b13-e195-4800-96b3-90dcc7a3a722"
      },
      "source": [
        "# lista de stopword\r\n",
        "nltk.download('stopwords')\r\n",
        "stopwords = nltk.corpus.stopwords.words('portuguese')#set(STOPWORDS)\r\n",
        "\r\n",
        "\r\n",
        "#Le as noticias e extrai automaticamente os textos\r\n",
        "textos = []\r\n",
        "forcaTexto = []\r\n",
        "notas = []\r\n",
        "datas = []\r\n",
        "analyzer = SentimentIntensityAnalyzer()\r\n",
        "\r\n",
        "try:\r\n",
        "  for url in googlenews.get_links():\r\n",
        "    article = Article(url)\r\n",
        "    \r\n",
        "    article.download() #Downloads the link’s HTML content\r\n",
        "    article.parse() #Parse the article\r\n",
        "    nltk.download('punkt')#1 time download of the sentence tokenizer\r\n",
        "    article.nlp()#  Keyword extraction wrapper\r\n",
        "    textos.append(article.summary)\r\n",
        "    notas.append(analyzer.polarity_scores(article.summary)['compound'])\r\n",
        "    forcaTexto.append(article.summary) \r\n",
        "    datas.append(article.publish_date)     \r\n",
        "    # print(article.text)\r\n",
        "    #print(article.title)\r\n",
        "    # print(article.canonical_link)\r\n",
        "    #print(article.summary)    \r\n",
        "    #break\r\n",
        "except Exception:\r\n",
        "  print (Exception)\r\n",
        "\r\n"
      ],
      "execution_count": null,
      "outputs": [
        {
          "output_type": "stream",
          "text": [
            "[nltk_data] Downloading package stopwords to /root/nltk_data...\n",
            "[nltk_data]   Package stopwords is already up-to-date!\n",
            "[nltk_data] Downloading package punkt to /root/nltk_data...\n",
            "[nltk_data]   Package punkt is already up-to-date!\n",
            "[nltk_data] Downloading package punkt to /root/nltk_data...\n",
            "[nltk_data]   Package punkt is already up-to-date!\n",
            "[nltk_data] Downloading package punkt to /root/nltk_data...\n",
            "[nltk_data]   Package punkt is already up-to-date!\n",
            "[nltk_data] Downloading package punkt to /root/nltk_data...\n",
            "[nltk_data]   Package punkt is already up-to-date!\n",
            "[nltk_data] Downloading package punkt to /root/nltk_data...\n",
            "[nltk_data]   Package punkt is already up-to-date!\n",
            "[nltk_data] Downloading package punkt to /root/nltk_data...\n",
            "[nltk_data]   Package punkt is already up-to-date!\n",
            "[nltk_data] Downloading package punkt to /root/nltk_data...\n",
            "[nltk_data]   Package punkt is already up-to-date!\n",
            "[nltk_data] Downloading package punkt to /root/nltk_data...\n",
            "[nltk_data]   Package punkt is already up-to-date!\n",
            "[nltk_data] Downloading package punkt to /root/nltk_data...\n",
            "[nltk_data]   Package punkt is already up-to-date!\n",
            "[nltk_data] Downloading package punkt to /root/nltk_data...\n",
            "[nltk_data]   Package punkt is already up-to-date!\n"
          ],
          "name": "stdout"
        }
      ]
    },
    {
      "cell_type": "code",
      "metadata": {
        "id": "_Le6bSpI080Q"
      },
      "source": [
        "# Sentimento positivo: nota >= 0.05\r\n",
        "# Sentimento negativo: nota <= -0.05\r\n",
        "# Sentimento neutro: (nota > -0.05) and (nota < 0.05)\r\n",
        "\r\n",
        "resultado = list(zip(notas, forcaTexto,datas))\r\n",
        "\r\n",
        "#Criar nuvem de palavras\r\n",
        "paraNuvem = pd.DataFrame(resultado,columns=[[\"notas\",\"textos\",\"datas\"]])\r\n",
        "\r\n",
        "# tudo = \" \".join(s for s in textos)\r\n",
        "\r\n",
        "# wordcloud2 = WordCloud(stopwords=stopwords,background_color=\"black\",\r\n",
        "#                       width=1600, height=800).generate(tudo)\r\n",
        "# plt.imshow(wordcloud2)\r\n",
        "# plt.axis(\"off\")\r\n",
        "# plt.show()\r\n",
        "paraNuvem.to_csv(\"valores.csv\")"
      ],
      "execution_count": null,
      "outputs": []
    },
    {
      "cell_type": "code",
      "metadata": {
        "colab": {
          "base_uri": "https://localhost:8080/"
        },
        "id": "rG4LWwxQ2SKZ",
        "outputId": "519dc260-b3ee-44a7-8ed0-569055ebb06b"
      },
      "source": [
        "#Baixar informações da B3\r\n",
        "def download():\r\n",
        "    cvmzip_list = [\r\n",
        "        'dfp_cia_aberta_%d.zip' % y for y in range(2010, 2020)\r\n",
        "    ]\r\n",
        "\r\n",
        "    base_url = 'http://dados.cvm.gov.br/dados/CIA_ABERTA/DOC/DFP/DADOS/' #Ficar ligeiro com esse link, pode mudar\r\n",
        "\r\n",
        "    for cvmzip in cvmzip_list:\r\n",
        "        print('Arquivio:', cvmzip)\r\n",
        "        response = requests.get(base_url + cvmzip)\r\n",
        "        with open(cvmzip, 'wb') as fp:\r\n",
        "            print('Download...')\r\n",
        "            fp.write(response.content)\r\n",
        "\r\n",
        "        with zipfile.ZipFile(cvmzip, 'r') as zip_ref:\r\n",
        "            print('Unzip...')\r\n",
        "            zip_ref.extractall()\r\n",
        "            \r\n",
        "download()"
      ],
      "execution_count": null,
      "outputs": [
        {
          "output_type": "stream",
          "text": [
            "Arquivio: dfp_cia_aberta_2010.zip\n",
            "Download...\n",
            "Unzip...\n",
            "Arquivio: dfp_cia_aberta_2011.zip\n",
            "Download...\n",
            "Unzip...\n",
            "Arquivio: dfp_cia_aberta_2012.zip\n",
            "Download...\n",
            "Unzip...\n",
            "Arquivio: dfp_cia_aberta_2013.zip\n",
            "Download...\n",
            "Unzip...\n",
            "Arquivio: dfp_cia_aberta_2014.zip\n",
            "Download...\n",
            "Unzip...\n",
            "Arquivio: dfp_cia_aberta_2015.zip\n",
            "Download...\n",
            "Unzip...\n",
            "Arquivio: dfp_cia_aberta_2016.zip\n",
            "Download...\n",
            "Unzip...\n",
            "Arquivio: dfp_cia_aberta_2017.zip\n",
            "Download...\n",
            "Unzip...\n",
            "Arquivio: dfp_cia_aberta_2018.zip\n",
            "Download...\n",
            "Unzip...\n",
            "Arquivio: dfp_cia_aberta_2019.zip\n",
            "Download...\n",
            "Unzip...\n"
          ],
          "name": "stdout"
        }
      ]
    },
    {
      "cell_type": "code",
      "metadata": {
        "colab": {
          "base_uri": "https://localhost:8080/"
        },
        "id": "-1buS2zBES0C",
        "outputId": "c313b67d-2728-48e4-c0c5-35e46557f8ae"
      },
      "source": [
        "import csv\r\n",
        "from collections import defaultdict\r\n",
        "from dateutil import parser as du_parser\r\n",
        "\r\n",
        "\r\n",
        "def carrega_dados():\r\n",
        "\r\n",
        "    # Estrutura para carregar os dados\r\n",
        "    # Empresa -> Categoria -> Ano do Exercício\r\n",
        "    dados = defaultdict(lambda: defaultdict(dict))\r\n",
        "\r\n",
        "    cvm_csv_list = [\r\n",
        "        '/content/dfp_cia_aberta_DRE_con_%d.csv' % y for y in range(2010, 2020)\r\n",
        "    ]\r\n",
        "    \r\n",
        "    for cvm_csv in cvm_csv_list:\r\n",
        "        \r\n",
        "        print('Processando:', cvm_csv)\r\n",
        "        with open(cvm_csv, encoding='iso-8859-1') as fp:\r\n",
        "\r\n",
        "            next(fp) # Pula o header\r\n",
        "            csv_reader = csv.reader(fp, delimiter=';')\r\n",
        "\r\n",
        "            for row in csv_reader:\r\n",
        "                #print(row)\r\n",
        "                empresa = row[3]\r\n",
        "                ref = (du_parser.parse(row[9]), du_parser.parse(row[10]))\r\n",
        "                categoria = (row[11], row[12])\r\n",
        "                valor = float(row[13])\r\n",
        "\r\n",
        "                dados[empresa][categoria][ref] = valor\r\n",
        "  \r\n",
        "    return dados\r\n",
        "\r\n",
        "dados = carrega_dados()\r\n",
        "\r\n"
      ],
      "execution_count": null,
      "outputs": [
        {
          "output_type": "stream",
          "text": [
            "Processando: /content/dfp_cia_aberta_DRE_con_2010.csv\n",
            "Processando: /content/dfp_cia_aberta_DRE_con_2011.csv\n",
            "Processando: /content/dfp_cia_aberta_DRE_con_2012.csv\n",
            "Processando: /content/dfp_cia_aberta_DRE_con_2013.csv\n",
            "Processando: /content/dfp_cia_aberta_DRE_con_2014.csv\n",
            "Processando: /content/dfp_cia_aberta_DRE_con_2015.csv\n",
            "Processando: /content/dfp_cia_aberta_DRE_con_2016.csv\n",
            "Processando: /content/dfp_cia_aberta_DRE_con_2017.csv\n",
            "Processando: /content/dfp_cia_aberta_DRE_con_2018.csv\n",
            "Processando: /content/dfp_cia_aberta_DRE_con_2019.csv\n"
          ],
          "name": "stdout"
        }
      ]
    },
    {
      "cell_type": "code",
      "metadata": {
        "colab": {
          "base_uri": "https://localhost:8080/",
          "height": 335
        },
        "id": "lcgcCJ-KGgW5",
        "outputId": "fa0b9f98-dc80-4085-8bdc-3c7db60d8bfe"
      },
      "source": [
        "import yfinance as yf\r\n",
        "import matplotlib.pyplot as pyplot\r\n",
        "\r\n",
        "def pega_cotacoes(tickers):\r\n",
        "    return  yf.download(\r\n",
        "            tickers = tickers,\r\n",
        "            start=\"2019-01-01\", end=\"2020-12-31\",\r\n",
        "            #interval = \"1mo\",\r\n",
        "            group_by = 'ticker',\r\n",
        "    )\r\n",
        "\r\n",
        "#ticker\r\n",
        "ticker = 'VALE3.SA'\r\n",
        "empresa = 'VALE S.A.' #VIA VAREJO S.A.  ITAU UNIBANCO HOLDING S.A.\r\n",
        "cotacoes = pega_cotacoes(ticker)\r\n",
        "\r\n",
        "# trata o formato\r\n",
        "q = cotacoes['Close'].dropna()\r\n",
        "b = {\r\n",
        "        k[1]: v / 100000\r\n",
        "        for k, v in \r\n",
        "        dados[empresa][('3.11', 'Lucro/Prejuízo Consolidado do Período')].items() #Quando é itau a conta a 3.09\r\n",
        "    }\r\n",
        "\r\n",
        "print(b)\r\n",
        "pyplot.plot(q)\r\n",
        "pyplot.plot(list(b.keys()), list(b.values()))\r\n",
        "pyplot.title(ticker + ' - Lucro vs. Cotação')\r\n",
        "pyplot.show()\r\n"
      ],
      "execution_count": null,
      "outputs": [
        {
          "output_type": "stream",
          "text": [
            "\r[*********************100%***********************]  1 of 1 completed\n",
            "{datetime.datetime(2009, 12, 31, 0, 0): 105.04879, datetime.datetime(2010, 12, 31, 0, 0): 304.21692, datetime.datetime(2011, 12, 31, 0, 0): 374.07855, datetime.datetime(2012, 12, 31, 0, 0): 93.90934, datetime.datetime(2013, 12, 31, 0, 0): -2.57566, datetime.datetime(2014, 12, 31, 0, 0): 2.19588, datetime.datetime(2015, 12, 31, 0, 0): -459.96622, datetime.datetime(2016, 12, 31, 0, 0): 132.96496, datetime.datetime(2017, 12, 31, 0, 0): 176.69992, datetime.datetime(2018, 12, 31, 0, 0): 257.73768, datetime.datetime(2019, 12, 31, 0, 0): -86.9604}\n"
          ],
          "name": "stdout"
        },
        {
          "output_type": "display_data",
          "data": {
            "image/png": "[encoded data removed]",
            "text/plain": [
              "<Figure size 432x288 with 1 Axes>"
            ]
          },
          "metadata": {
            "tags": [],
            "needs_background": "light"
          }
        }
      ]
    },
    {
      "cell_type": "code",
      "metadata": {
        "id": "SJAPAeEkKF_3"
      },
      "source": [
        "sucesso = pd.DataFrame(dados, columns=['empresa','ref','categoria','valor'])\r\n"
      ],
      "execution_count": null,
      "outputs": []
    },
    {
      "cell_type": "code",
      "metadata": {
        "id": "e__rPoXqMozN"
      },
      "source": [
        "sucesso.head()"
      ],
      "execution_count": null,
      "outputs": []
    }
  ]
}